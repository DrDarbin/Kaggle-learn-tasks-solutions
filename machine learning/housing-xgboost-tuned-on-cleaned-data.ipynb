{
 "cells": [
  {
   "cell_type": "code",
   "execution_count": 1,
   "metadata": {
    "_uuid": "599c85b07f91bac2ad212af1ea3b4edfc66d2bff",
    "scrolled": false
   },
   "outputs": [],
   "source": [
    "import pandas as pd\n",
    "from sklearn.metrics import mean_absolute_error\n",
    "from sklearn.model_selection import train_test_split\n",
    "\n",
    "from sklearn.ensemble import RandomForestRegressor\n",
    "from sklearn.tree import DecisionTreeRegressor\n",
    "from xgboost import XGBRegressor\n",
    "\n",
    "from learntools.core import *\n",
    "\n",
    "iowa_file_path = '../input/train.csv'\n",
    "iowa_test_file_path = '../input/test.csv'\n",
    "train_data = pd.read_csv(iowa_file_path)\n",
    "test_data = pd.read_csv(iowa_test_file_path)\n",
    "\n",
    "y = train_data.SalePrice\n",
    "train_features = train_data.drop(['SalePrice'], axis = 1)"
   ]
  },
  {
   "cell_type": "markdown",
   "metadata": {
    "_uuid": "1cf1ffebcb4a95f15112e2e7750f526baa39fa30"
   },
   "source": [
    "# Missing and categorical values"
   ]
  },
  {
   "cell_type": "code",
   "execution_count": 2,
   "metadata": {
    "_uuid": "9760b349094ff1d874615efe613d8cd652be18f0",
    "scrolled": true
   },
   "outputs": [],
   "source": [
    "# fill in missing numeric values\n",
    "from sklearn.impute import SimpleImputer\n",
    "\n",
    "# impute\n",
    "train_data_num = train_features.select_dtypes(exclude=['object'])\n",
    "test_data_num = test_data.select_dtypes(exclude=['object'])\n",
    "imputer = SimpleImputer()\n",
    "train_num_cleaned = imputer.fit_transform(train_data_num)\n",
    "test_num_cleaned = imputer.transform(test_data_num)\n",
    "\n",
    "# columns rename after imputing\n",
    "train_num_cleaned = pd.DataFrame(train_num_cleaned)\n",
    "test_num_cleaned = pd.DataFrame(test_num_cleaned)\n",
    "train_num_cleaned.columns = train_data_num.columns\n",
    "test_num_cleaned.columns = test_data_num.columns"
   ]
  },
  {
   "cell_type": "code",
   "execution_count": 3,
   "metadata": {
    "_uuid": "4898e1945a5208161a6fcf0e23571bcd06d811b0"
   },
   "outputs": [],
   "source": [
    "# string columns: transform to dummies\n",
    "train_data_str = train_data.select_dtypes(include=['object'])\n",
    "test_data_str = test_data.select_dtypes(include=['object'])\n",
    "train_str_dummy = pd.get_dummies(train_data_str)\n",
    "test_str_dummy = pd.get_dummies(test_data_str)\n",
    "train_dummy, test_dummy = train_str_dummy.align(test_str_dummy, \n",
    "                                                join = 'left', \n",
    "                                                axis = 1)"
   ]
  },
  {
   "cell_type": "code",
   "execution_count": 4,
   "metadata": {
    "_uuid": "5af3d1c3cdfe4206bef38e7b1c8ce497dfae9e52"
   },
   "outputs": [],
   "source": [
    "# convert numpy dummy tables to pandas DataFrame\n",
    "train_num_cleaned = pd.DataFrame(train_num_cleaned)\n",
    "test_num_cleaned = pd.DataFrame(test_num_cleaned)"
   ]
  },
  {
   "cell_type": "code",
   "execution_count": 5,
   "metadata": {
    "_uuid": "f1e90fe32706f43ac1d5ea7af242b999703945c2"
   },
   "outputs": [],
   "source": [
    "# joining numeric (after imputing) and string (converted to dummy) data\n",
    "train_all_clean = pd.concat([train_num_cleaned, train_dummy], axis = 1)\n",
    "test_all_clean = pd.concat([test_num_cleaned, test_dummy], axis = 1)"
   ]
  },
  {
   "cell_type": "code",
   "execution_count": 6,
   "metadata": {
    "_uuid": "e9d746b010eb0fdc602de346056144768bb83705"
   },
   "outputs": [
    {
     "name": "stdout",
     "output_type": "stream",
     "text": [
      "Utilities_NoSeWa True\n",
      "Condition2_RRAe True\n",
      "Condition2_RRAn True\n",
      "Condition2_RRNn True\n",
      "HouseStyle_2.5Fin True\n",
      "RoofMatl_ClyTile True\n",
      "RoofMatl_Membran True\n",
      "RoofMatl_Metal True\n",
      "RoofMatl_Roll True\n",
      "Exterior1st_ImStucc True\n",
      "Exterior1st_Stone True\n",
      "Exterior2nd_Other True\n",
      "Heating_Floor True\n",
      "Heating_OthW True\n",
      "Electrical_Mix True\n",
      "GarageQual_Ex True\n",
      "PoolQC_Fa True\n",
      "MiscFeature_TenC True\n"
     ]
    }
   ],
   "source": [
    "# detect NaN in already cleaned test data \n",
    "# (there could be completely empty columns in test data)\n",
    "cols_with_missing = [col for col in test_all_clean.columns\n",
    "                                if test_all_clean[col].isnull().any()]\n",
    "for col in cols_with_missing:\n",
    "    print(col, test_all_clean[col].isnull().any())"
   ]
  },
  {
   "cell_type": "code",
   "execution_count": 7,
   "metadata": {
    "_uuid": "0a271653aa668a52844a4c56f3195b681fa76d1d"
   },
   "outputs": [],
   "source": [
    "# since there are empty columns in test we need to drop them in train and test data\n",
    "train_all_clean_no_nan = train_all_clean.drop(cols_with_missing, axis = 1)\n",
    "test_all_clean_no_nan = test_all_clean.drop(cols_with_missing, axis = 1)"
   ]
  },
  {
   "cell_type": "markdown",
   "metadata": {
    "_uuid": "c3221390f01274b7f875e87abbac46dda8f0c04c"
   },
   "source": [
    "# Different models training and validation"
   ]
  },
  {
   "cell_type": "code",
   "execution_count": 8,
   "metadata": {
    "_uuid": "015f66e0c1655124079a8d88d1e00a5399f5e543",
    "scrolled": false
   },
   "outputs": [
    {
     "name": "stdout",
     "output_type": "stream",
     "text": [
      "XGBoost MAE default: 15,121\n"
     ]
    },
    {
     "data": {
      "text/plain": [
       "XGBRegressor(base_score=0.5, booster='gbtree', colsample_bylevel=1,\n",
       "       colsample_bytree=1, gamma=0, learning_rate=0.05, max_delta_step=0,\n",
       "       max_depth=3, min_child_weight=1, missing=None, n_estimators=1000,\n",
       "       n_jobs=1, nthread=None, objective='reg:linear', random_state=1,\n",
       "       reg_alpha=0, reg_lambda=1, scale_pos_weight=1, seed=None,\n",
       "       silent=True, subsample=1)"
      ]
     },
     "execution_count": 8,
     "metadata": {},
     "output_type": "execute_result"
    }
   ],
   "source": [
    "train_X, val_X, train_y, val_y = train_test_split(train_all_clean_no_nan, y, random_state=1)\n",
    "\n",
    "# default XGBoost\n",
    "xgb_model = XGBRegressor(random_state = 1)\n",
    "xgb_model.fit(train_X, train_y, verbose = False)\n",
    "xgb_predictions = xgb_model.predict(val_X)\n",
    "xgb_mae = mean_absolute_error(val_y, xgb_predictions)\n",
    "print(\"XGBoost MAE default: {:,.0f}\".format(xgb_mae))\n",
    "\n",
    "# fine tuned XGBoost\n",
    "xgb_model = XGBRegressor(n_estimators = 1000, learning_rate=0.05, random_state = 1)\n",
    "xgb_model.fit(train_X, train_y, early_stopping_rounds = 25, eval_set = [(val_X, val_y)], verbose = False)\n",
    "# with verbose = True we have the best iteration on step 757 => n_estimators = 757"
   ]
  },
  {
   "cell_type": "code",
   "execution_count": 9,
   "metadata": {
    "_uuid": "cf6b8944b3c6092e3a544087b2c7caf500ee3b3c"
   },
   "outputs": [
    {
     "name": "stdout",
     "output_type": "stream",
     "text": [
      "XGBoost MAE default: 14,197\n"
     ]
    }
   ],
   "source": [
    "xgb_predictions = xgb_model.predict(val_X)\n",
    "xgb_mae = mean_absolute_error(val_y, xgb_predictions)\n",
    "print(\"XGBoost MAE default: {:,.0f}\".format(xgb_mae))"
   ]
  },
  {
   "cell_type": "markdown",
   "metadata": {
    "_uuid": "f7c47011756dd4125ac584cbac751ae5e0d8509f"
   },
   "source": [
    "# XGBoost Model (on all training data)"
   ]
  },
  {
   "cell_type": "code",
   "execution_count": 10,
   "metadata": {
    "_uuid": "c7b21de27dd3cc2d79ba9c361789d30a0a8f64ee",
    "scrolled": true
   },
   "outputs": [
    {
     "data": {
      "text/plain": [
       "XGBRegressor(base_score=0.5, booster='gbtree', colsample_bylevel=1,\n",
       "       colsample_bytree=1, gamma=0, learning_rate=0.05, max_delta_step=0,\n",
       "       max_depth=3, min_child_weight=1, missing=None, n_estimators=757,\n",
       "       n_jobs=1, nthread=None, objective='reg:linear', random_state=0,\n",
       "       reg_alpha=0, reg_lambda=1, scale_pos_weight=1, seed=None,\n",
       "       silent=True, subsample=1)"
      ]
     },
     "execution_count": 10,
     "metadata": {},
     "output_type": "execute_result"
    }
   ],
   "source": [
    "# To improve accuracy, create a new Random Forest model which you will train on all training data\n",
    "xgb_model_on_full_data = xgb_model = XGBRegressor(n_estimators = 757, learning_rate=0.05)\n",
    "xgb_model_on_full_data.fit(train_all_clean_no_nan, y)"
   ]
  },
  {
   "cell_type": "markdown",
   "metadata": {
    "_uuid": "294a788b8c675e0e42a16d60b41a9846d99f7ae8"
   },
   "source": [
    "# Make Predictions"
   ]
  },
  {
   "cell_type": "code",
   "execution_count": 11,
   "metadata": {
    "_uuid": "46cd68a096beb5b969ef7e663f89f4bb22a7b7ad"
   },
   "outputs": [],
   "source": [
    "test_X = test_all_clean_no_nan\n",
    "test_preds = xgb_model_on_full_data.predict(test_X)"
   ]
  },
  {
   "cell_type": "code",
   "execution_count": 12,
   "metadata": {
    "_uuid": "e3d6c83e2b612cd6a085c37e504f7e8125eb1fbc"
   },
   "outputs": [],
   "source": [
    "output = pd.DataFrame({'Id': test_data.Id,\n",
    "                       'SalePrice': test_preds})\n",
    "output.to_csv('submission.csv', index=False)"
   ]
  }
 ],
 "metadata": {
  "kernelspec": {
   "display_name": "Python 3",
   "language": "python",
   "name": "python3"
  },
  "language_info": {
   "codemirror_mode": {
    "name": "ipython",
    "version": 3
   },
   "file_extension": ".py",
   "mimetype": "text/x-python",
   "name": "python",
   "nbconvert_exporter": "python",
   "pygments_lexer": "ipython3",
   "version": "3.6.6"
  }
 },
 "nbformat": 4,
 "nbformat_minor": 1
}
